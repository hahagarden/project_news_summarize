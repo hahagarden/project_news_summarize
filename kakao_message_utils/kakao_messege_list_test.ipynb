{
 "cells": [
  {
   "cell_type": "code",
   "execution_count": 1,
   "source": [
    "import kakao_utils\n",
    "\n",
    "KAKAO_TOKEN_FILENAME = \"/git/project_kakao_message/json/kakao_token.json\"\n",
    "KAKAO_APP_KEY=\"cc335daa766cc74b3de1b1c372a6cce8\"\n",
    "\n",
    "#토큰 업데이트하기\n",
    "tokens=kakao_utils.update_tokens(KAKAO_APP_KEY,KAKAO_TOKEN_FILENAME)\n",
    "\n",
    "#업데이트한 토큰 저장하기\n",
    "kakao_utils.save_tokens(KAKAO_TOKEN_FILENAME,tokens)\n",
    "\n",
    "#텍스트 템플릿 형식 만들기\n",
    "template = {\n",
    "    \"object_type\": \"list\",\n",
    "    \"header_title\": \"초밥 사진\",\n",
    "    \"header_link\": {\"web_url\": \"www.naver.com\", \"mobile_web_url\": \"www.naver.com\"},\n",
    "    \"contents\": [\n",
    "        {\n",
    "            \"title\": \"1. 광어초밥\",\n",
    "            \"description\": \"광어는 맛있다\",\n",
    "            \"image_url\": \"https://search1.kakaocdn.net/argon/0x200_85_hr/8x5qcdbcQwi\",\n",
    "            \"image_width\": 50,\n",
    "            \"image_height\": 50,\n",
    "            \"link\": {\"web_url\": \"www.naver.com\", \"mobile_web_url\": \"www.naver.com\"},\n",
    "        },\n",
    "        {\n",
    "            \"title\": \"2. 참치초밥\",\n",
    "            \"description\": \"참치는 맛있다\",\n",
    "            \"image_url\": \"https://search2.kakaocdn.net/argon/0x200_85_hr/IjIToH1S7J1\",\n",
    "            \"image_width\": 50,\n",
    "            \"image_height\": 50,\n",
    "            \"link\": {\"web_url\": \"www.naver.com\", \"mobile_web_url\": \"www.naver.com\"},\n",
    "        },\n",
    "    ],\n",
    "    \"buttons\": [\n",
    "        {\n",
    "            \"title\": \"웹으로 이동\",\n",
    "            \"link\": {\"web_url\": \"www.naver.com\", \"mobile_web_url\": \"www.naver.com\"},\n",
    "        }\n",
    "    ],\n",
    "}\n",
    "\n",
    "#카카오톡 메시지 보내기\n",
    "res=kakao_utils.send_message(KAKAO_TOKEN_FILENAME,template)\n",
    "# if failed to request,\n",
    "if res.status_code != 200:\n",
    "    print(\"error! because= \", res.json())\n",
    "else:  # if succeed,\n",
    "    print(\"메시지를 성공적으로 보냈습니다.\")\n"
   ],
   "outputs": [
    {
     "output_type": "stream",
     "name": "stdout",
     "text": [
      "{'access_token': '2obC5XPZwNAtKpAkFsiWCLNDOr_QY094fQ9BbwopyNkAAAF7obM9KQ', 'token_type': 'bearer', 'expires_in': 21599}\n",
      "메시지를 성공적으로 보냈습니다.\n"
     ]
    }
   ],
   "metadata": {}
  },
  {
   "cell_type": "code",
   "execution_count": null,
   "source": [],
   "outputs": [],
   "metadata": {}
  }
 ],
 "metadata": {
  "orig_nbformat": 4,
  "language_info": {
   "name": "python",
   "version": "3.9.6",
   "mimetype": "text/x-python",
   "codemirror_mode": {
    "name": "ipython",
    "version": 3
   },
   "pygments_lexer": "ipython3",
   "nbconvert_exporter": "python",
   "file_extension": ".py"
  },
  "kernelspec": {
   "name": "python3",
   "display_name": "Python 3.9.6 64-bit"
  },
  "interpreter": {
   "hash": "4cd7ab41f5fca4b9b44701077e38c5ffd31fe66a6cab21e0214b68d958d0e462"
  }
 },
 "nbformat": 4,
 "nbformat_minor": 2
}